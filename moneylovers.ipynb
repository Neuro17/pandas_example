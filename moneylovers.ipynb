{
 "metadata": {
  "name": "moneylovers"
 }, 
 "nbformat": 2, 
 "worksheets": [
  {
   "cells": [
    {
     "cell_type": "code", 
     "collapsed": true, 
     "input": [
      "from pandas import Series, DataFrame", 
      "import pandas as pd", 
      "import pymongo", 
      "import sys", 
      "", 
      "client = pymongo.MongoClient('localhost, 27017')", 
      "db = client.moneylovers", 
      "transactions = db.trasaction"
     ], 
     "language": "python", 
     "outputs": [], 
     "prompt_number": 2
    }, 
    {
     "cell_type": "code", 
     "collapsed": true, 
     "input": [
      "try:", 
      "    doc = transactions.find_one()", 
      "except:", 
      "    print \"Unexpected error\", sys.exc_info()[0]"
     ], 
     "language": "python", 
     "outputs": [], 
     "prompt_number": 22
    }, 
    {
     "cell_type": "code", 
     "collapsed": true, 
     "input": [
      "try:", 
      "    cursor = transactions.find()", 
      "except:", 
      "    print \"Unexpected error\", sys.exc_info()[0]"
     ], 
     "language": "python", 
     "outputs": [], 
     "prompt_number": 23
    }, 
    {
     "cell_type": "code", 
     "collapsed": false, 
     "input": [
      "data = {}", 
      "amounts = []", 
      "dates = []", 
      "categories = []", 
      "notes = []", 
      "ids = []", 
      "for doc in cursor:", 
      "    try:", 
      "        amounts.append(doc['amount'])", 
      "        dates.append(doc['date'])", 
      "        categories.append(doc['category'])", 
      "        notes.append(doc['note'])", 
      "        ids.append(doc['_id'])", 
      "    except:", 
      "        print \"fuck\"", 
      "data['amount'] = amounts", 
      "data['date'] = dates", 
      "data['category'] = categories", 
      "data['note'] = notes", 
      "data['id'] = ids", 
      "print len(amounts), len(dates), len(categories), len(notes), len(ids)", 
      "data = DataFrame(data)"
     ], 
     "language": "python", 
     "outputs": [
      {
       "output_type": "stream", 
       "stream": "stdout", 
       "text": [
        "976 976 976 976 976"
       ]
      }
     ], 
     "prompt_number": 24
    }, 
    {
     "cell_type": "code", 
     "collapsed": true, 
     "input": [
      "category = data['category']", 
      "category_counts = category.value_counts()"
     ], 
     "language": "python", 
     "outputs": [], 
     "prompt_number": 25
    }, 
    {
     "cell_type": "code", 
     "collapsed": false, 
     "input": [
      "category_counts.plot()"
     ], 
     "language": "python", 
     "outputs": [
      {
       "output_type": "pyout", 
       "prompt_number": 9, 
       "text": [
        "<matplotlib.axes.AxesSubplot at 0x42b5ad0>"
       ]
      }
     ], 
     "prompt_number": 9
    }, 
    {
     "cell_type": "code", 
     "collapsed": true, 
     "input": [
      "data = data.sort_index(by=\"amount\")"
     ], 
     "language": "python", 
     "outputs": [], 
     "prompt_number": 26
    }, 
    {
     "cell_type": "code", 
     "collapsed": true, 
     "input": [
      "most_expensive = DataFrame({'amount': [a * -1 for a in data['amount'][:10]],", 
      "                            'category' : [c for c in data['category'][:10]]},", 
      "                           index = [n for n in data['note'][:10]]", 
      "                            )"
     ], 
     "language": "python", 
     "outputs": [], 
     "prompt_number": 27
    }, 
    {
     "cell_type": "code", 
     "collapsed": false, 
     "input": [
      "most_expensive.plot(kind='bar', rot=90)"
     ], 
     "language": "python", 
     "outputs": [
      {
       "output_type": "pyout", 
       "prompt_number": 28, 
       "text": [
        "<matplotlib.axes.AxesSubplot at 0x42b5dd0>"
       ]
      }
     ], 
     "prompt_number": 28
    }, 
    {
     "cell_type": "code", 
     "collapsed": true, 
     "input": [
      "most_expensive2 = data[data['amount'] > 500]", 
      "most_expensive"
     ], 
     "language": "python", 
     "outputs": []
    }
   ]
  }
 ]
}